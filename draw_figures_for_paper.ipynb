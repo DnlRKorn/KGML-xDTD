{
 "cells": [
  {
   "cell_type": "markdown",
   "metadata": {},
   "source": [
    "## Draw barplots for showing the node category distribution and edge category distribution"
   ]
  },
  {
   "cell_type": "code",
   "execution_count": null,
   "metadata": {},
   "outputs": [],
   "source": [
    "import pandas as pd\n",
    "import seaborn as sns\n",
    "import matplotlib\n",
    "import matplotlib.pyplot as plt\n",
    "plt.rcParams['axes.facecolor'] = 'white'\n",
    "plt.style.use('default')"
   ]
  },
  {
   "cell_type": "code",
   "execution_count": null,
   "metadata": {},
   "outputs": [],
   "source": [
    "graph_edge = pd.read_csv('data/graph_edges.txt', sep='\\t', header=0)"
   ]
  },
  {
   "cell_type": "code",
   "execution_count": null,
   "metadata": {},
   "outputs": [],
   "source": [
    "all_nodes = set(graph_edge['source'])\n",
    "all_nodes.update(set(graph_edge['target']))      \n",
    "len(all_nodes)"
   ]
  },
  {
   "cell_type": "code",
   "execution_count": null,
   "metadata": {},
   "outputs": [],
   "source": [
    "all_node_info = pd.read_csv('data/all_graph_nodes_info.txt', sep='\\t', header=0)"
   ]
  },
  {
   "cell_type": "code",
   "execution_count": null,
   "metadata": {},
   "outputs": [],
   "source": [
    "len(set(all_node_info['category']))"
   ]
  },
  {
   "cell_type": "code",
   "execution_count": null,
   "metadata": {},
   "outputs": [],
   "source": [
    "len(set(graph_edge['predicate']))"
   ]
  },
  {
   "cell_type": "code",
   "execution_count": null,
   "metadata": {},
   "outputs": [],
   "source": [
    "all_node_info['category'].value_counts()"
   ]
  },
  {
   "cell_type": "code",
   "execution_count": null,
   "metadata": {},
   "outputs": [],
   "source": [
    "node_table = pd.read_csv('draw_figures/number_of_nodes_by_category.txt', sep='\\t', header=None)\n",
    "node_table.columns = ['node_category','node_count']\n",
    "node_table = node_table.sort_values(by='node_count', ascending=True).reset_index(drop=True)\n",
    "node_table['percent'] = node_table['node_count']/node_table['node_count'].sum() * 100"
   ]
  },
  {
   "cell_type": "code",
   "execution_count": null,
   "metadata": {},
   "outputs": [],
   "source": [
    "fig, ax = plt.subplots(figsize=(8, 8), dpi=300);\n",
    "ax.margins(y=0.01);\n",
    "ax.barh(y=node_table.node_category.str.replace('biolink:',''), width=node_table.node_count, alpha=0.5, log=True);\n",
    "ax.set_xlim(1,);\n",
    "ax.minorticks_off();\n",
    "# xlabels = [item.get_text() for item in ax.get_xticklabels()]\n",
    "# xlabels[1] = '0'\n",
    "ax.set_xticklabels(xlabels);\n",
    "ax.grid(True, which='major', axis='x', alpha=0.45);\n",
    "# ax.set_title('Number of Nodes by Category in Customized Knowledge Graph');\n",
    "fig.tight_layout();\n",
    "fig.savefig('draw_figures/number_of_nodes_by_category.svg',dpi=300)"
   ]
  },
  {
   "cell_type": "code",
   "execution_count": null,
   "metadata": {},
   "outputs": [],
   "source": [
    "edge_table = pd.read_csv('draw_figures/number_of_edges_by_category.txt', sep='\\t', header=None)\n",
    "edge_table = pd.concat([edge_table[[0,1]].rename({0:'edge_category',1:'edge_count'}, axis=1),edge_table[[2,3]].rename({2:'edge_category',3:'edge_count'}, axis=1)],axis=0).reset_index(drop=True)\n",
    "edge_table = edge_table.sort_values(by='edge_count', ascending=True).reset_index(drop=True)\n",
    "edge_table['percent'] = edge_table['edge_count']/edge_table['edge_count'].sum() * 100"
   ]
  },
  {
   "cell_type": "code",
   "execution_count": null,
   "metadata": {},
   "outputs": [],
   "source": [
    "fig, ax = plt.subplots(figsize=(15, 15), dpi=300);\n",
    "ax.margins(y=0.01);\n",
    "ax.barh(y=edge_table.edge_category, width=edge_table.edge_count, alpha=0.5, log=True);\n",
    "ax.set_xlim(1,);\n",
    "ax.minorticks_off();\n",
    "# xlabels = [item.get_text() for item in ax.get_xticklabels()]\n",
    "# xlabels[1] = '0'\n",
    "ax.set_xticklabels(xlabels, fontsize=18);\n",
    "ax.grid(True, which='major', axis='x', alpha=0.45);\n",
    "# ax.set_title('Number of Edges by Predicate in Customized Knowledge Graph', size=22);\n",
    "fig.tight_layout();\n",
    "fig.savefig('draw_figures/number_of_edges_by_category.svg',dpi=300)"
   ]
  },
  {
   "cell_type": "code",
   "execution_count": null,
   "metadata": {},
   "outputs": [],
   "source": [
    "plotdata = pd.read_csv('draw_figures/model_evaluation.txt', sep='\\t', header=0)\n",
    "plotdata['method'] = plotdata['method'].str.replace('_',' ')"
   ]
  },
  {
   "cell_type": "code",
   "execution_count": null,
   "metadata": {},
   "outputs": [],
   "source": [
    "metric_list = ['MRR','Hit@1','Hit@3', 'Hit@5']\n",
    "\n",
    "# create figure\n",
    "fig = plt.figure(figsize=(15, 10), dpi=300)\n",
    "\n",
    "# add subplots\n",
    "for i, metric in enumerate(metric_list, 1):\n",
    "    plt.subplot(2, 2, i)\n",
    "    temp = plotdata.loc[plotdata['metric'] == metric,:].reset_index(drop=True)\n",
    "    ax = sns.barplot(data=temp, x=\"model\", y='value', hue=\"method\")\n",
    "    plt.xlabel('')\n",
    "    plt.xticks(rotation=30,fontsize=10)\n",
    "    plt.ylabel(metric,fontsize=15)\n",
    "    plt.yticks(fontsize=10)\n",
    "    ax.get_legend().remove()\n",
    "    plt.title(metric, fontsize=18)\n",
    "\n",
    "plt.subplots_adjust(hspace=0.5)\n",
    "\n",
    "# add legend\n",
    "handles, labels = ax.get_legend_handles_labels()\n",
    "fig.legend(handles, labels, loc='upper right', ncol=3, bbox_to_anchor=(.90, .98), fontsize=13)\n",
    "\n",
    "fig.savefig('draw_figures/model_evaluation.svg')"
   ]
  }
 ],
 "metadata": {
  "kernelspec": {
   "display_name": "Python3.8.12 (mypersonal_env)",
   "language": "python",
   "name": "mypersonal_env"
  },
  "language_info": {
   "name": "python",
   "version": "3.8.12"
  },
  "orig_nbformat": 4
 },
 "nbformat": 4,
 "nbformat_minor": 2
}
